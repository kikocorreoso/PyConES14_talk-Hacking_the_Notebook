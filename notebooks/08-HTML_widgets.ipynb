{
 "metadata": {
  "name": "",
  "signature": "sha256:6971963d1b11c6b946fbc10a5805793adea426244716f2f6bb1b783aafb161cd"
 },
 "nbformat": 3,
 "nbformat_minor": 0,
 "worksheets": [
  {
   "cells": [
    {
     "cell_type": "heading",
     "level": 1,
     "metadata": {},
     "source": [
      "First of all, let's see what the widgets are?"
     ]
    },
    {
     "cell_type": "markdown",
     "metadata": {},
     "source": [
      "http://127.0.0.1:8888/notebooks/notebooks/Using%20Interact.ipynb (notebook obtained from http://nbviewer.ipython.org/github/ipython/ipython/tree/2.x/examples/Interactive%20Widgets/)"
     ]
    },
    {
     "cell_type": "heading",
     "level": 1,
     "metadata": {},
     "source": [
      "There is an IPEP about widgets"
     ]
    },
    {
     "cell_type": "markdown",
     "metadata": {},
     "source": [
      "[IPEP about widgets](https://github.com/ipython/ipython/wiki/IPEP-23%3A-Backbone.js-Widgets)"
     ]
    },
    {
     "cell_type": "heading",
     "level": 1,
     "metadata": {},
     "source": [
      "Very good tutorials with the basic steps to create your customised widgets"
     ]
    },
    {
     "cell_type": "markdown",
     "metadata": {},
     "source": [
      "http://nbviewer.ipython.org/github/ipython/ipython/blob/master/examples/Interactive%20Widgets/Index.ipynb"
     ]
    },
    {
     "cell_type": "code",
     "collapsed": true,
     "input": [
      "from IPython.html import widgets\n",
      "from IPython.display import display"
     ],
     "language": "python",
     "metadata": {},
     "outputs": []
    },
    {
     "cell_type": "code",
     "collapsed": false,
     "input": [
      "kk = widgets.Dropdown()\n",
      "kk.values = {'a':1,'b':2}\n",
      "display(kk)"
     ],
     "language": "python",
     "metadata": {},
     "outputs": []
    },
    {
     "cell_type": "code",
     "collapsed": false,
     "input": [
      "from IPython.utils.traitlets import link\n",
      "a = widgets.FloatText()\n",
      "b = widgets.FloatSlider()\n",
      "c = widgets.FloatProgress()\n",
      "display(a,b,c)\n",
      "\n",
      "mylink = link((a, 'value'), (b, 'value'), (c, 'value'))"
     ],
     "language": "python",
     "metadata": {},
     "outputs": []
    },
    {
     "cell_type": "code",
     "collapsed": true,
     "input": [
      "mylink.unlink()"
     ],
     "language": "python",
     "metadata": {},
     "outputs": []
    },
    {
     "cell_type": "code",
     "collapsed": false,
     "input": [
      "name = widgets.Text(description='Name:')\n",
      "color = widgets.Dropdown(description='Color:', values=['red', 'orange', 'yellow', 'green', 'blue', 'indigo', 'violet'])\n",
      "page1 = widgets.Box(children=[name, color])\n",
      "\n",
      "age = widgets.IntSlider(description='Age:', min=0, max=120, value=50)\n",
      "gender = widgets.RadioButtons(description='Gender:', values=['male', 'female'])\n",
      "page2 = widgets.Box(children=[age, gender])\n",
      "\n",
      "tabs = widgets.Tab(children=[page1, page2])\n",
      "display(tabs)\n",
      "\n",
      "tabs.set_title(0, 'Name')\n",
      "tabs.set_title(1, 'Details')"
     ],
     "language": "python",
     "metadata": {},
     "outputs": []
    },
    {
     "cell_type": "code",
     "collapsed": true,
     "input": [
      "display(widgets.Text(description=\"a:\"))\n",
      "display(widgets.Text(description=\"aa:\"))\n",
      "display(widgets.Text(description=\"aaa:\"))\n",
      "display(widgets.Text(description=\"aaaaaaaaaaaaaaa:\"))"
     ],
     "language": "python",
     "metadata": {},
     "outputs": []
    },
    {
     "cell_type": "code",
     "collapsed": true,
     "input": [
      "buttons = [widgets.Button(description=str(i)) for i in range(3)]\n",
      "display(*buttons)"
     ],
     "language": "python",
     "metadata": {},
     "outputs": []
    },
    {
     "cell_type": "code",
     "collapsed": true,
     "input": [
      "container = widgets.HBox(children=buttons)\n",
      "display(container)"
     ],
     "language": "python",
     "metadata": {},
     "outputs": []
    },
    {
     "cell_type": "code",
     "collapsed": true,
     "input": [
      "container.width = '100%'\n",
      "container.pack = 'center'"
     ],
     "language": "python",
     "metadata": {},
     "outputs": []
    },
    {
     "cell_type": "code",
     "collapsed": true,
     "input": [
      "form = widgets.VBox()\n",
      "first = widgets.Text(description=\"First Name:\")\n",
      "last = widgets.Text(description=\"Last Name:\")\n",
      "\n",
      "student = widgets.Checkbox(description=\"Student:\", value=False)\n",
      "school_info = widgets.VBox(visible=False, children=[\n",
      "    widgets.Text(description=\"School:\"),\n",
      "    widgets.IntText(description=\"Grade:\", min=0, max=12)\n",
      "    ])\n",
      "\n",
      "pet = widgets.Text(description=\"Pet's Name:\")\n",
      "form.children = [first, last, student, school_info, pet]\n",
      "display(form)\n",
      "\n",
      "def on_student_toggle(name, value):\n",
      "    if value:\n",
      "        school_info.visible = True\n",
      "    else:\n",
      "        school_info.visible = False\n",
      "student.on_trait_change(on_student_toggle, 'value')"
     ],
     "language": "python",
     "metadata": {},
     "outputs": []
    },
    {
     "cell_type": "code",
     "collapsed": true,
     "input": [
      "from IPython.html.widgets import interact, interactive, fixed\n",
      "from IPython.display import display\n",
      "import matplotlib.pyplot as plt\n",
      "%matplotlib inline"
     ],
     "language": "python",
     "metadata": {},
     "outputs": []
    },
    {
     "cell_type": "code",
     "collapsed": false,
     "input": [
      "fig, ax = plt.subplots()\n",
      "ax.plot([3,1,2,4,0,5,3,2,0,2,4])\n",
      "plt.close(fig)\n",
      "\n",
      "vline = ax.axvline(1)\n",
      "hline = ax.axhline(0.5)\n",
      "\n",
      "def set_cursor(x, y):\n",
      "    vline.set_xdata((x, x))\n",
      "    hline.set_ydata((y, y))\n",
      "    display(fig)\n",
      "\n",
      "interact(set_cursor, x=(1, 9, 0.01), y=(0, 5, 0.01))"
     ],
     "language": "python",
     "metadata": {},
     "outputs": []
    },
    {
     "cell_type": "heading",
     "level": 1,
     "metadata": {},
     "source": [
      "More"
     ]
    },
    {
     "cell_type": "markdown",
     "metadata": {},
     "source": [
      "http://nbviewer.ipython.org/github/ipython-books/cookbook-code/blob/master/notebooks/chapter03_notebook/05_basic_widgets.ipynb\n",
      "\n",
      "http://nbviewer.ipython.org/github/ipython-books/cookbook-code/blob/master/notebooks/chapter03_notebook/06_widgets.ipynb\n",
      "\n",
      "http://nbviewer.ipython.org/github/ipython/ipython/blob/2.x/examples/Interactive%20Widgets/Custom%20Widgets.ipynb#Abstract\n",
      "\n",
      "http://www.machinalis.com/blog/embedding-interactive-maps-into-an-ipython-nb/"
     ]
    }
   ],
   "metadata": {}
  }
 ]
}
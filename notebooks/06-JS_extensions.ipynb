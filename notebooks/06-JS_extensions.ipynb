{
 "metadata": {
  "name": "",
  "signature": "sha256:8afa887a25666b6427a6b8d765c476e62f2ac21cbd9ad37f9dcded9f15b85b22"
 },
 "nbformat": 3,
 "nbformat_minor": 0,
 "worksheets": [
  {
   "cells": [
    {
     "cell_type": "heading",
     "level": 1,
     "metadata": {},
     "source": [
      "Creating a simple js extension"
     ]
    },
    {
     "cell_type": "markdown",
     "metadata": {},
     "source": [
      "<div class=\"alert alert-info\">\n",
      "The creation of js extensions are not well covered in the [IPython official docs](http://ipython.org/ipython-doc/dev/config/extensions/) (or maybe I didn't find the useful information) and you have to dive in the web to find useful information.\n",
      "</div>"
     ]
    },
    {
     "cell_type": "markdown",
     "metadata": {},
     "source": [
      "We will create an extension that allows us to talk to the IPython notebook and the text will be written in a cell in the notebook. It was tested with IPython 2.3.0 and 3.0.0.dev on chrome/chromium v40 (you need the [web speech API working in your browser](https://dvcs.w3.org/hg/speech-api/raw-file/tip/speechapi.html))."
     ]
    },
    {
     "cell_type": "markdown",
     "metadata": {},
     "source": [
      "To make it work just create a folder called 'talk' in in the ***IPYTHONDIR/nbextensions*** folder and copy the files here <span style=\"background-color: red;\">(A\u00d1ADIR RUTA AL REPO)</span> in the recently created 'talk' folder. "
     ]
    },
    {
     "cell_type": "markdown",
     "metadata": {},
     "source": [
      "Now, to load the extension:"
     ]
    },
    {
     "cell_type": "code",
     "collapsed": false,
     "input": [
      "%%javascript\n",
      "IPython.load_extensions('talk/talk');"
     ],
     "language": "python",
     "metadata": {},
     "outputs": []
    },
    {
     "cell_type": "markdown",
     "metadata": {},
     "source": [
      "You have to see a new button in the toolbar:\n",
      "\n",
      "<i class=\"fa fa-pencil-square-o\" style=\"font-size:30px;\"></i>"
     ]
    },
    {
     "cell_type": "markdown",
     "metadata": {},
     "source": [
      "If you click the button the browser will ask you to allow the use of the microphone (accept) and a dialog will appear. Just talk and when you are ready click 'OK' in the dialog window. Your speech will be written in the cell that was active when you clicked the extension button <i class=\"fa fa-pencil-square-o\"></i> so <span class=\"alert-danger\">take care to do not overwrite some interesting text!!!!</span>.\n",
      "\n",
      "I left the next cell blank so you can use it <i class=\"fa fa-smile-o\" style=\"font-size: 20px;\"></i>"
     ]
    },
    {
     "cell_type": "markdown",
     "metadata": {},
     "source": []
    },
    {
     "cell_type": "markdown",
     "metadata": {},
     "source": [
      "In the next cell you can see the code of the javascript file (***talk.js***)"
     ]
    },
    {
     "cell_type": "code",
     "collapsed": false,
     "input": [
      "/*\n",
      "* ----------------------------------------------------------------------------\n",
      "* Copyright (c) 2014 - Kiko Correoso\n",
      "*\n",
      "* Distributed under the terms of the MIT License.\n",
      "*\n",
      "* A little extension to talk with the IPython notebook and write the \n",
      "* conversation in a cell.\n",
      "*\n",
      "* Ths extension is based on previous work by Dami\u00e1n \u00c1vila and Min Ragan Kelley \n",
      "* see https://github.com/damianavila/mIPyex/tree/master/custom/spellchecker\n",
      "* see https://github.com/minrk/ipython_extensions\n",
      "* ----------------------------------------------------------------------------\n",
      "*/\n",
      "\n",
      "/*\n",
      "* ----------------------------------------------------------------------------\n",
      "* INSTALLATION\n",
      "* \n",
      "* Add this file and neighboring talk.css to $(ipython locate)/nbextensions/talk\n",
      "*\n",
      "* And load it with:\n",
      "*\n",
      "* %%javascript\n",
      "* IPython.load_extensions('talk/talk');\n",
      "* ----------------------------------------------------------------------------\n",
      "*/\n",
      "\n",
      "define([\"require\"], function (require) {\n",
      "  \"use strict\";\n",
      "  \n",
      "  // Test browser support\n",
      "  window.SpeechRecognition = window.SpeechRecognition        ||\n",
      "                             window.webkitSpeechRecognition  ||\n",
      "                             null;\n",
      "    \n",
      "  if (window.SpeechRecognition){    \n",
      "      \n",
      "    var recognizer = new window.SpeechRecognition();\n",
      "    recognizer.continuous = true; \n",
      "    recognizer.interimResults = true;\n",
      "    recognizer.lang = \"es-ES\"   \n",
      "    \n",
      "    var talk_func = function(){\n",
      "    \n",
      "      var textarea = $('<textarea/>')\n",
      "        .attr('rows','15')\n",
      "        .attr('cols','80')\n",
      "        .attr('name','source')\n",
      "        .attr('id', 'talkarea')\n",
      "        /*.attr('readonly', 'readonly')*/\n",
      "        .text('Text will be written here...');\n",
      "      \n",
      "      var dialogform = $('<div/>')\n",
      "        .append(\n",
      "          $('<form/>').append(\n",
      "            $('<fieldset/>').append(\n",
      "              $('<label/>')\n",
      "                .attr('for','source')\n",
      "                .text(\"Please, talk to a microphone and the words \" +\n",
      "                      \"will appear in the textarea below. \" +\n",
      "                      \"This extension shall work on Chrome and maybe in the \" +\n",
      "                      \"nightly builds of Firefox.\" +\n",
      "                      \"When the content is ready, press OK or Cancel if you \" +\n",
      "                      \"want to discard the text. \")\n",
      "            )\n",
      "            .append($('<br/>'))\n",
      "            .append(\n",
      "              textarea\n",
      "            )\n",
      "          )\n",
      "        );\n",
      "    \n",
      "      IPython.dialog.modal({\n",
      "        title: \"Please, talk and when ready click the button\",\n",
      "        body: dialogform,\n",
      "        buttons: {\n",
      "          \"OK\": { class : \"btn-primary\",\n",
      "                  click: function() {\n",
      "                           talkstop();\n",
      "                           var corr_input = $.trim($(textarea).val());\n",
      "                           console.log(corr_input);\n",
      "                           IPython.notebook.get_selected_cell().set_text(corr_input);\n",
      "                         }\n",
      "                },\n",
      "          Cancel: { click: function() {\n",
      "                               talkstop();\n",
      "                           }\n",
      "                  }\n",
      "        }\n",
      "      });\n",
      "      \n",
      "      var talkstart = function (){\n",
      "        console.log('entrostart');\n",
      "        // Start recognising\n",
      "        recognizer.onresult = function(event) {\n",
      "                                console.log('onresult');\n",
      "                                var transcription = $('#talkarea');\n",
      "                                transcription.val('');\n",
      "                                  for (var i = event.resultIndex; i < event.results.length; i++) {\n",
      "                                    if (event.results[i].isFinal) {\n",
      "                                      transcription.val(\n",
      "                                        transcription.val() + event.results[i][0].transcript + '\\n(Confidence: ' + event.results[i][0].confidence + ')'\n",
      "                                      );\n",
      "                                    } else {\n",
      "                                      transcription.val(\n",
      "                                        transcription.val() + event.results[i][0].transcript\n",
      "                                      );\n",
      "                                    };\n",
      "                                  };\n",
      "                              };\n",
      "        // Error on recognising\n",
      "        recognizer.onerror = function(event) {\n",
      "                               console.log('onerror')\n",
      "                               transcription.val('Recognition error: ' + event.message);\n",
      "                             };\n",
      "        // Start listening\n",
      "        recognizer.start();\n",
      "      };\n",
      "    \n",
      "      var talkstop = function () {\n",
      "        // Stop listening\n",
      "        console.log('entrostop')\n",
      "        recognizer.stop();\n",
      "      };\n",
      "      \n",
      "      talkstart();\n",
      "    \n",
      "    };\n",
      "    \n",
      "  } else {\n",
      "    \n",
      "    var talk_func = function(){\n",
      "      \n",
      "      var dialogupdate = $('<div/>')\n",
      "        .append(\n",
      "          $('<p/>')\n",
      "            .text(\"Sorry, it seems that your browser doesn't support this functionality\")\n",
      "        );\n",
      "      \n",
      "      IPython.dialog.modal({\n",
      "        title: \"Not recognised\",\n",
      "        body: dialogupdate,\n",
      "      });\n",
      "    \n",
      "    };  \n",
      "  \n",
      "  };\n",
      "    \n",
      "  var talk_button = function () {\n",
      "    if (!IPython.toolbar) {\n",
      "      $([IPython.events]).on(\"app_initialized.NotebookApp\", talk_button);\n",
      "      return;\n",
      "    }\n",
      "    if ($(\"#talk_button\").length === 0) {\n",
      "      IPython.toolbar.add_buttons_group([\n",
      "        {\n",
      "          'label'   : 'Talk to IPython',\n",
      "          'icon'    : 'fa-pencil-square-o',\n",
      "          'callback': toggle_talk,\n",
      "          'id'      : 'talk_button'\n",
      "        },\n",
      "      ]);\n",
      "    };\n",
      "  };\n",
      "  \n",
      "  var toggle_talk = function(){\n",
      "    talk_func()\n",
      "  };\n",
      "    \n",
      "  var load_css = function () {\n",
      "    var link = document.createElement(\"link\");\n",
      "    link.type = \"text/css\";\n",
      "    link.rel = \"stylesheet\";\n",
      "    link.href = require.toUrl(\"./talk.css\");\n",
      "    console.log(link);\n",
      "    document.getElementsByTagName(\"head\")[0].appendChild(link);\n",
      "  };\n",
      "  \n",
      "  var load_ipython_extension = function () {\n",
      "    load_css();\n",
      "    talk_button();\n",
      "  };\n",
      "\n",
      "  return {\n",
      "    load_ipython_extension : load_ipython_extension,\n",
      "    toggle_talk : toggle_talk,\n",
      "    talk_func : talk_func,\n",
      "    \n",
      "  };\n",
      "  \n",
      "});"
     ],
     "language": "python",
     "metadata": {},
     "outputs": []
    },
    {
     "cell_type": "markdown",
     "metadata": {},
     "source": [
      "If you want that the extension is always available when you open a new notebook you have to include some code in the ***custom.js*** file of the profile you want to use. For example, in previous notebooks we created the pycones14 profile so to include it in the ***custom.js*** of that profile we shall include the following text in the file:"
     ]
    },
    {
     "cell_type": "markdown",
     "metadata": {},
     "source": [
      "    // we want strict javascript that fails\n",
      "    // on ambiguous syntax\n",
      "    \"using strict\";\n",
      "\n",
      "    $([IPython.events]).on('app_initialized.NotebookApp', function(){\n",
      "         require(['custom/talk/main'],function(talk){\n",
      "           talk.parameters('dummy');\n",
      "           console.log('Talk extension loaded correctly');\n",
      "         });\n",
      "    });"
     ]
    },
    {
     "cell_type": "heading",
     "level": 1,
     "metadata": {},
     "source": [
      "More info"
     ]
    },
    {
     "cell_type": "markdown",
     "metadata": {},
     "source": [
      "http://nbviewer.ipython.org/github/ipython-books/cookbook-code/blob/master/notebooks/chapter03_notebook/03_controls.ipynb\n",
      "\n",
      "https://github.com/ipython/ipython/wiki/Extensions-Index\n",
      "\n",
      "https://github.com/ipython-contrib/IPython-notebook-extensions\n",
      "\n",
      "http://www.damian.oquanta.info/posts/loader-and-writer-ipython-nbextensions-to-easily-edit-your-text.html\n",
      "\n",
      "http://www.damian.oquanta.info/posts/a-poor-man-spell-checker-for-the-ipython-notebook.html\n",
      "\n",
      "http://www.damian.oquanta.info/posts/tweet-me-said-an-ipython-notebook-cell-and-i-did-it.html\n",
      "\n",
      "https://github.com/minrk/ipython_extensions\n",
      "\n",
      "https://www.pfenninger.org/posts/ipython-notebook-extensions-to-ease-day-to-day-work/"
     ]
    }
   ],
   "metadata": {}
  }
 ]
}
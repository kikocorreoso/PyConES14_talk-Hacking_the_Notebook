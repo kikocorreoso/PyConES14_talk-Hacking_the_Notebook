{
 "metadata": {
  "name": "",
  "signature": "sha256:a99326cf9ddd8e1f9360d90c0594598dcc0df63a4c38bc60848e5f27c2f522b9"
 },
 "nbformat": 3,
 "nbformat_minor": 0,
 "worksheets": [
  {
   "cells": [
    {
     "cell_type": "markdown",
     "metadata": {},
     "source": [
      "In Python, objects can declare their textual representation using the __repr__ method. IPython expands on this idea and allows objects to declare other rich representations including:\n",
      "\n",
      "* HTML\n",
      "* JSON\n",
      "* PNG\n",
      "* JPEG\n",
      "* SVG\n",
      "* LaTeX\n",
      "\n",
      "A single object can declare some or all of these representations; all are handled by *IPython's display system*.\n",
      "\n",
      "In general the Notebook will use the richest available representation."
     ]
    },
    {
     "cell_type": "code",
     "collapsed": false,
     "input": [
      "from io import BytesIO\n",
      "import urllib, base64\n",
      "\n",
      "import matplotlib.pyplot as plt\n",
      "from IPython.display import HTML\n",
      "\n",
      "class KikoPlot:\n",
      "    def __init__(self, x, y = None, caption = None):\n",
      "        if y:\n",
      "            self.x = x\n",
      "            self.y = y\n",
      "        else:\n",
      "            self.y = x\n",
      "            self.x = range(len(x))\n",
      "        self.caption = caption\n",
      "    \n",
      "    def _to_png(self, fig):\n",
      "        \"\"\"Return a base64-encoded PNG from a \n",
      "        matplotlib figure.\n",
      "        Stolen from:\n",
      "        http://nbviewer.ipython.org/github/ipython-books/cookbook-code/blob/master/notebooks/chapter01_basic/06_kernel.ipynb\"\"\"\n",
      "        imgdata = BytesIO()\n",
      "        fig.savefig(imgdata, format='png')\n",
      "        imgdata.seek(0)\n",
      "        return urllib.parse.quote(\n",
      "            base64.b64encode(imgdata.getvalue()))\n",
      "    \n",
      "    def _plot(self):\n",
      "        fig = plt.figure(figsize=(4,4), dpi=100)\n",
      "        plt.plot(self.x, self.y)\n",
      "        self.result = self._to_png(fig)\n",
      "        plt.close()\n",
      "    \n",
      "    def _repr_html_(self):\n",
      "        self._plot()\n",
      "        txt = \"\"\"\n",
      "<div style=\"width:600px;margin:auto;background-color:#0ff;\">\n",
      "  <img style=\"margin:auto;padding-top:25px;padding-bottom:10px;\" src=\"data:image/png;base64,{0}\"></img>\n",
      "  <DIV STYLE=\"margin:auto;color:#0707ff;text-align:center;font-style:italic;\">{1}</DIV>\n",
      "</div>\n",
      "        \"\"\"\n",
      "        return txt.format(self.result, self.caption)"
     ],
     "language": "python",
     "metadata": {},
     "outputs": []
    },
    {
     "cell_type": "code",
     "collapsed": false,
     "input": [
      "KikoPlot([1,2,3,4,3,2,1], caption = \"Figure - 1. A very dumb plot.\")"
     ],
     "language": "python",
     "metadata": {},
     "outputs": []
    },
    {
     "cell_type": "heading",
     "level": 1,
     "metadata": {},
     "source": [
      "More"
     ]
    },
    {
     "cell_type": "markdown",
     "metadata": {},
     "source": [
      "http://nbviewer.ipython.org/github/ipython/ipython-in-depth/blob/master/examples/IPython%20Kernel/Rich%20Output.ipynb"
     ]
    }
   ],
   "metadata": {}
  }
 ]
}
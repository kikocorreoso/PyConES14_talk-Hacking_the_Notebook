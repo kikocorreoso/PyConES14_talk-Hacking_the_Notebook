{
 "metadata": {
  "name": "",
  "signature": "sha256:624c57bb7a2d216b7ad454881b1f121cfc81d214e8ba84751596083f335a7155"
 },
 "nbformat": 3,
 "nbformat_minor": 0,
 "worksheets": [
  {
   "cells": [
    {
     "cell_type": "heading",
     "level": 1,
     "metadata": {},
     "source": [
      "Creating user profiles for custom behaviour and functionality"
     ]
    },
    {
     "cell_type": "markdown",
     "metadata": {},
     "source": [
      "To create a new profile:"
     ]
    },
    {
     "cell_type": "code",
     "collapsed": false,
     "input": [
      "!ipython profile create pycones14"
     ],
     "language": "python",
     "metadata": {},
     "outputs": []
    },
    {
     "cell_type": "markdown",
     "metadata": {},
     "source": [
      "This creates a profile in your IPYTHONDIR (`ipython locate` is a quick way to see where your *IPYTHONDIR* is), and populates it with automatically generated default config files."
     ]
    },
    {
     "cell_type": "code",
     "collapsed": false,
     "input": [
      "profile_path = !ipython locate profile pycones14"
     ],
     "language": "python",
     "metadata": {},
     "outputs": []
    },
    {
     "cell_type": "code",
     "collapsed": false,
     "input": [
      "profile_path = profile_path[0]\n",
      "profile_path"
     ],
     "language": "python",
     "metadata": {},
     "outputs": []
    },
    {
     "cell_type": "code",
     "collapsed": false,
     "input": [
      "ls -lh $profile_path"
     ],
     "language": "python",
     "metadata": {},
     "outputs": []
    },
    {
     "cell_type": "heading",
     "level": 2,
     "metadata": {},
     "source": [
      "Startup files"
     ]
    },
    {
     "cell_type": "markdown",
     "metadata": {},
     "source": [
      "In the startup folder of your new profile you should have a **README** file with the following content:\n",
      "\n",
      "<br>\n",
      "<div class=\"alert-info\">\n",
      "<p>This is the IPython startup directory</p>\n",
      "\n",
      "<p>*.py* and *.ipy* files in this directory will be run *prior* to any code or files specified via the exec_lines or exec_files configurables whenever you load this profile.</p>\n",
      "\n",
      "<p>Files will be run in lexicographical order, so you can control the execution order of files with a prefix, e.g.:</p>\n",
      "<pre>\n",
      "    00-first.py\n",
      "    50-middle.py\n",
      "    99-last.ipy\n",
      "</pre>\n",
      "<br>\n",
      "</div>"
     ]
    },
    {
     "cell_type": "markdown",
     "metadata": {},
     "source": [
      "This files are executed at the beginning when the profile is used. You can use python (\\*.py) or ipython (\\*.ipy) scripts. For example, most of the times I do the following in the first code cell of the notebooks:\n",
      "\n",
      "````python\n",
      "import numpy as np\n",
      "import pandas as pd\n",
      "import matplotlib.pyplot as plt\n",
      "%matplotlib inline\n",
      "````\n",
      "\n",
      "This is not valid python code but it is valid ipython code so you can do the following."
     ]
    },
    {
     "cell_type": "markdown",
     "metadata": {},
     "source": [
      "You can find the [following paragraph in the official docs](http://ipython.readthedocs.org/en/master/interactive/tutorial.html?highlight=startup#startup-files) summarising the text above:"
     ]
    },
    {
     "cell_type": "markdown",
     "metadata": {},
     "source": [
      "<div class=\"alert alert-success\">If you want some code to be run at the beginning of every IPython session, the easiest way is to add Python (***.py***) or IPython (***.ipy***) scripts to your ***profile_default/startup/*** directory. Files here will be executed as soon as the IPython shell is constructed, before any other code or scripts you have specified. The files will be run in order of their names, so you can control the ordering with prefixes, like ***10-myimports.py***.</div>"
     ]
    },
    {
     "cell_type": "code",
     "collapsed": false,
     "input": [
      "%%writefile $profile_path/startup/01-startimports.ipy\n",
      "import numpy as np\n",
      "import pandas as pd\n",
      "import matplotlib.pyplot as plt\n",
      "%matplotlib inline"
     ],
     "language": "python",
     "metadata": {},
     "outputs": []
    },
    {
     "cell_type": "markdown",
     "metadata": {},
     "source": [
      "<div class=\"alert-info\">\n",
      "<p><b>[TIP]</b> If you want valid python scripts you can use the IPython magics as follows:</p>\n",
      "\n",
      "<pre>\n",
      "from IPython import get_ipython\n",
      "ipython = get_ipython()\n",
      "ipython.magic(\"timeit for i in range(10000):pass\")\n",
      "</pre>\n",
      "\n",
      "<p>This way you don't have to use ***.ipy*** scripts and you have valid python scripts. In the previous case we could do:</p>\n",
      "\n",
      "<pre>\n",
      "%%writefile $profile_path/startup/01-startimports.py\n",
      "import numpy as np\n",
      "import pandas as pd\n",
      "import matplotlib.pyplot as plt\n",
      "\n",
      "from IPython import get_ipython\n",
      "ipython = get_ipython()\n",
      "ipython.magic(\"matplotlib inline\")\n",
      "</pre>\n",
      "&nbsp;\n",
      "</div>"
     ]
    },
    {
     "cell_type": "markdown",
     "metadata": {},
     "source": [
      "Now, we can start with our new profile and all the included files will be executed:\n",
      "\n",
      "    ipython notebook --profile pycones14"
     ]
    },
    {
     "cell_type": "heading",
     "level": 1,
     "metadata": {},
     "source": [
      "\\*\\_config\\_\\* files (see previous notebook)"
     ]
    },
    {
     "cell_type": "markdown",
     "metadata": {},
     "source": [
      "In the root of your new profile dir you could find the following files:\n",
      "\n",
      "* ipython_config.py\n",
      "* ipython_kernel_config.py\n",
      "* ipython_nbconvert_config.py\n",
      "* ipython_notebook_config.py\n",
      "* ipython_qtconsole_config.py"
     ]
    },
    {
     "cell_type": "markdown",
     "metadata": {},
     "source": [
      "The official docs could be found in this [link](http://ipython.org/ipython-doc/dev/config/intro.html)."
     ]
    },
    {
     "cell_type": "markdown",
     "metadata": {},
     "source": [
      "Let's show the config file for the notebook."
     ]
    },
    {
     "cell_type": "code",
     "collapsed": false,
     "input": [
      "%load $profile_path/ipython_notebook_config.py"
     ],
     "language": "python",
     "metadata": {},
     "outputs": []
    }
   ],
   "metadata": {}
  }
 ]
}
{
 "metadata": {
  "name": "",
  "signature": "sha256:dc534d7a47e365530d83503c65892e0116780ee9e0e1bf55fcb29c17cfc6bf0e"
 },
 "nbformat": 3,
 "nbformat_minor": 0,
 "worksheets": [
  {
   "cells": [
    {
     "cell_type": "heading",
     "level": 1,
     "metadata": {},
     "source": [
      "General information about the IPython notebook"
     ]
    },
    {
     "cell_type": "markdown",
     "metadata": {},
     "source": [
      "[IPython: A Pycon (US) tutorial 2014](http://nbviewer.ipython.org/github/ipython/ipython-in-depth/blob/master/Index%20-%20Basic.ipynb)\n",
      "\n",
      "[IPython in depth, repository of notebooks](https://github.com/ipython/ipython-in-depth)\n",
      "\n",
      "[Notebooks of the IPython cookbook written by Cyrille Rossant](http://nbviewer.ipython.org/github/ipython-books/cookbook-code/tree/master/notebooks/) and [link to the books by Cyrille Rossant](http://ipython-books.github.io/)"
     ]
    },
    {
     "cell_type": "heading",
     "level": 1,
     "metadata": {},
     "source": [
      "Creating your own magic functions"
     ]
    },
    {
     "cell_type": "markdown",
     "metadata": {},
     "source": [
      "http://pybonacci.org/2014/01/24/157-cosas-de-ipython-que-no-sabias-y-nunca-preguntaste-i/ (in Spanish)\n",
      "\n",
      "[A magic that let us play with jinja2](http://nbviewer.ipython.org/urls/gist.github.com/bj0/5343292/raw/23a0845ee874827e3635edb0bf5701710a537bfc/jinja2.ipynb) by bj0.\n",
      "\n",
      "http://nbviewer.ipython.org/github/ipython-books/cookbook-code/blob/master/notebooks/chapter01_basic/04_magic.ipynb (it is part of the excellent book \"[IPython Interactive Computing and Visualization Cookbook](http://ipython-books.github.io/cookbook/)\" written by Cyrille Rossant and already linked in the previous section)."
     ]
    },
    {
     "cell_type": "heading",
     "level": 1,
     "metadata": {},
     "source": [
      "Rich display system"
     ]
    },
    {
     "cell_type": "markdown",
     "metadata": {},
     "source": [
      "http://nbviewer.ipython.org/github/ipython/ipython-in-depth/blob/master/examples/IPython%20Kernel/Rich%20Output.ipynb\n",
      "\n"
     ]
    },
    {
     "cell_type": "heading",
     "level": 1,
     "metadata": {},
     "source": [
      "Customise the look of the IPython notebook (css)"
     ]
    },
    {
     "cell_type": "markdown",
     "metadata": {},
     "source": [
      "[Some notebook styles by Rob Story](https://github.com/wrobstory/notebook-styles#notebook-styles)\n",
      "\n",
      "Notebooks about css theming by Matthias Bussonnier: [[1]](http://nbviewer.ipython.org/github/Carreau/posts/blob/master/Blog1.ipynb) and [[2]](http://nbviewer.ipython.org/github/Carreau/posts/blob/master/02-css-selector.ipynb)\n",
      "\n",
      "[More css theming by Henry Hammond](http://blog.henryhhammond.com/theming-ipython/)\n",
      "\n",
      "[48 themes for the IPython notebook by Dami\u00e1n \u00c1vila](http://www.damian.oquanta.info/posts/48-themes-for-your-ipython-notebook.html)\n",
      "\n",
      "[Custom style sheets for IPython Notebook, using Chris Kempson's Base16 color scheme generator by Nikhil S](https://github.com/nsonnad/base16-ipython-notebook)"
     ]
    },
    {
     "cell_type": "heading",
     "level": 1,
     "metadata": {},
     "source": [
      "Creating Kernels (be ready for the upcoming IPython v3.0.0)"
     ]
    },
    {
     "cell_type": "markdown",
     "metadata": {},
     "source": [
      "[Bash kernel by Thomas Kluyver](https://github.com/takluyver/bash_kernel)\n",
      "\n",
      "[Official docs for wrapper kernels](http://ipython.org/ipython-doc/dev/development/wrapperkernels.html)\n",
      "\n",
      "[A basic kernel to solve equations by Cyrille Rossant](http://nbviewer.ipython.org/github/ipython-books/cookbook-code/blob/master/notebooks/chapter01_basic/06_kernel.ipynb)\n",
      "\n",
      "[Talk about IPython frontends and backends for PyData SV 2014 by Paul Ivanov and Thomas Kluyver](https://github.com/ipython/front-to-back)"
     ]
    },
    {
     "cell_type": "heading",
     "level": 1,
     "metadata": {},
     "source": [
      "Creating custom buttons, extensions and functionality"
     ]
    },
    {
     "cell_type": "markdown",
     "metadata": {},
     "source": [
      "Blog posts by Dami\u00e1n \u00c1vila: [[1]](http://www.damian.oquanta.info/posts/loader-and-writer-ipython-nbextensions-to-easily-edit-your-text.html), [[2]](http://www.damian.oquanta.info/posts/a-poor-man-spell-checker-for-the-ipython-notebook.html) and [[3]](http://www.damian.oquanta.info/posts/tweet-me-said-an-ipython-notebook-cell-and-i-did-it.html)\n",
      "\n",
      "[Notebook extensions by Min Ragan Kelley](https://github.com/minrk/ipython_extensions)\n",
      "\n",
      "[Unofficial repository for IPython notebooks extensions](https://github.com/ipython-contrib/IPython-notebook-extensions)\n",
      "\n",
      "https://github.com/ipython/ipython/wiki/Extensions-Index\n",
      "\n",
      "[Blog post about notebook extensions by Stefan Pfenninger](https://www.pfenninger.org/posts/ipython-notebook-extensions-to-ease-day-to-day-work/)\n",
      "\n",
      "[Shortcuts](http://nbviewer.ipython.org/github/ipython/ipython/blob/2.x/examples/Notebook/User%20Interface.ipynb#Keyboard-shortcut-customization)\n",
      "\n",
      "[Cursor blink rate on codemirror](http://pirsquared.org/blog/notebook-blink.html)\n",
      "\n",
      "http://nbviewer.ipython.org/github/ipython/ipython/blob/master/examples/Notebook/JavaScript%20Notebook%20Extensions.ipynb\n",
      "\n",
      "https://blog.safaribooksonline.com/2013/12/18/ipython-notebook-plugins/\n",
      "\n",
      "http://nbviewer.ipython.org/github/ipython-books/cookbook-code/blob/master/notebooks/chapter03_notebook/03_controls.ipynb\n",
      "\n",
      "http://nbviewer.ipython.org/github/payne92/notebooks/blob/master/00%20Javascript%20In%20Notebooks.ipynb"
     ]
    }
   ],
   "metadata": {}
  }
 ]
}
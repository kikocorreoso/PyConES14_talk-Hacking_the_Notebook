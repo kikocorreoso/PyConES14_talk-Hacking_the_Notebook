{
 "metadata": {
  "kernelspec": {
   "codemirror_mode": {
    "name": "ipython",
    "version": 3
   },
   "display_name": "IPython (Python 3)",
   "language": "python",
   "name": "python3"
  },
  "name": "",
  "signature": "sha256:ccdd0c406ca2344b33e156b873cc9aa7995066ce810eae19f012fc172c5d9b9d"
 },
 "nbformat": 3,
 "nbformat_minor": 0,
 "worksheets": [
  {
   "cells": [
    {
     "cell_type": "heading",
     "level": 1,
     "metadata": {},
     "source": [
      "Index"
     ]
    },
    {
     "cell_type": "markdown",
     "metadata": {},
     "source": [
      "[01 - Configuration and some builtin magic functions](./01-Configuration_and_some_builtin_magic_functions.ipynb)\n",
      "\n",
      "[02 - Profiles and startup files](02-Profiles_and_startup_files.ipynb)\n",
      "\n",
      "[03 - Creating your own magic functions](03-Creating_your_own_magic_functions.ipynb)\n",
      "\n",
      "[04 - Rich Display](04-Rich_Display.ipynb)\n",
      "\n",
      "[05 - Manipulating with js](05-Manipulating_with_js.ipynb)\n",
      "\n",
      "[06 - JS extensions](06-JS_extensions.ipynb)\n",
      "\n",
      "[07 - Styling the notebook](07-Styling_the_notebook.ipynb)\n",
      "\n",
      "[08 - HTML widgets](08-HTML_widgets.ipynb)\n",
      "\n",
      "[09 - Kernels (IPython3 only)](09-Kernels____IPythonv3_only.ipynb)\n",
      "\n",
      "[10 - Summary of references](10-Summary_of_references.ipynb)"
     ]
    },
    {
     "cell_type": "heading",
     "level": 1,
     "metadata": {},
     "source": [
      "About me"
     ]
    },
    {
     "cell_type": "markdown",
     "metadata": {},
     "source": [
      "* Physicist and PhD in Physics (specialised in Meteorology and Climatology).\n",
      "* Working in the Offshore wind energy bussiness at Iberdrola.\n",
      "* Co-organiser of Python-Madrid (together with Pablo, Juanlu, Yami, Andrey, Jes\u00fas (some of them) and the Madrid Crew).\n",
      "* Co-founder of Asociaci\u00f3n Python Espa\u00f1a and actual VP.\n",
      "* Core-dev of Brython.\n",
      "* Husband and Father of two."
     ]
    }
   ],
   "metadata": {}
  }
 ]
}
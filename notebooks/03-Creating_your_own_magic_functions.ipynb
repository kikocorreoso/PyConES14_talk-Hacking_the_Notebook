{
 "metadata": {
  "name": "",
  "signature": "sha256:ebe9495086c17ef0124d0aa68c019fbd80c0488cdb672b7915a7b4bf7bfb9d53"
 },
 "nbformat": 3,
 "nbformat_minor": 0,
 "worksheets": [
  {
   "cells": [
    {
     "cell_type": "heading",
     "level": 1,
     "metadata": {},
     "source": [
      "Summary"
     ]
    },
    {
     "cell_type": "markdown",
     "metadata": {},
     "source": [
      "Let's create a magic function to easily find help of python stdlib modules."
     ]
    },
    {
     "cell_type": "heading",
     "level": 1,
     "metadata": {},
     "source": [
      "First, some logic to see what we want to do"
     ]
    },
    {
     "cell_type": "markdown",
     "metadata": {},
     "source": [
      "Let's import some stuff"
     ]
    },
    {
     "cell_type": "code",
     "collapsed": false,
     "input": [
      "import requests\n",
      "import re\n",
      "from IPython.display import IFrame"
     ],
     "language": "python",
     "metadata": {},
     "outputs": []
    },
    {
     "cell_type": "markdown",
     "metadata": {},
     "source": [
      "We extract the list of modules from the [python docs](https://docs.python.org/3/py-modindex.html). Yes, there are other ways but... <span style=\"font-size:30px;\">&#9787;</span>"
     ]
    },
    {
     "cell_type": "code",
     "collapsed": false,
     "input": [
      "mods = requests.get(\"https://docs.python.org/3/py-modindex.html\")\n",
      "mods = mods.content\n",
      "\n",
      "modules = re.findall(r'library/([^\\'\" >]+).html', str(mods))"
     ],
     "language": "python",
     "metadata": {},
     "outputs": []
    },
    {
     "cell_type": "markdown",
     "metadata": {},
     "source": [
      "A way to say what we want to search"
     ]
    },
    {
     "cell_type": "code",
     "collapsed": false,
     "input": [
      "module = '__future__'"
     ],
     "language": "python",
     "metadata": {},
     "outputs": []
    },
    {
     "cell_type": "markdown",
     "metadata": {},
     "source": [
      "And, finally, we show the help inside an `iframe`"
     ]
    },
    {
     "cell_type": "code",
     "collapsed": false,
     "input": [
      "url = \"https://docs.python.org/3/library/{0}.html#module-{0}\"\n",
      "IFrame(url.format(module), width = \"100%\", height = \"400px\")"
     ],
     "language": "python",
     "metadata": {},
     "outputs": []
    },
    {
     "cell_type": "heading",
     "level": 2,
     "metadata": {},
     "source": [
      "Let's modify this to have it as an IPython magic function"
     ]
    },
    {
     "cell_type": "heading",
     "level": 3,
     "metadata": {},
     "source": [
      "Structure of a magic function"
     ]
    },
    {
     "cell_type": "markdown",
     "metadata": {},
     "source": [
      "***From the IPython official docs: [defining-your-own-magics](http://ipython.readthedocs.org/en/master/interactive/reference.html#defining-your-own-magics)***\n",
      "\n",
      "Two main ways to create a magic function: \n",
      "\n",
      "* from standalone functions\n",
      "* inheriting from a base class provided by IPython: `IPython.core.magic.Magics`.\n",
      "\n",
      "Magic functions can work as:\n",
      "\n",
      "* line magic (`from IPython.core.magic import register_line_magic`)\n",
      "* cell magic (`from IPython.core.magic import register_cell_magic`)\n",
      "* both of the above cases (`from IPython.core.magic import register_line_cell_magic`)"
     ]
    },
    {
     "cell_type": "heading",
     "level": 3,
     "metadata": {},
     "source": [
      "1) - The simplest case, using functions and registering them"
     ]
    },
    {
     "cell_type": "markdown",
     "metadata": {},
     "source": [
      "Our python stdlib help functionality as a line magic"
     ]
    },
    {
     "cell_type": "code",
     "collapsed": true,
     "input": [
      "from IPython.core.magic import register_line_magic\n",
      "\n",
      "# imports\n",
      "import requests\n",
      "import re\n",
      "from IPython.display import IFrame, HTML\n",
      "\n",
      "@register_line_magic\n",
      "def stdlib_help(module):\n",
      "    # list of modules\n",
      "    mods = requests.get(\"https://docs.python.org/3/py-modindex.html\")\n",
      "    mods = mods.content\n",
      "    modules = re.findall(r'library/([^\\'\" >]+).html', str(mods))\n",
      "    \n",
      "    # Check if argument is a stdlib module\n",
      "    if module in modules:\n",
      "        url = \"https://docs.python.org/3/library/{0}.html#module-{0}\"\n",
      "        return IFrame(url.format(module), width = \"100%\", height = \"400px\")\n",
      "    else:\n",
      "        return HTML(\"<p><strong>\"+module+\"</strong> is not part of the CPython3.4 stdlib</p>\")"
     ],
     "language": "python",
     "metadata": {},
     "outputs": []
    },
    {
     "cell_type": "code",
     "collapsed": false,
     "input": [
      "%stdlib_help re"
     ],
     "language": "python",
     "metadata": {},
     "outputs": []
    },
    {
     "cell_type": "code",
     "collapsed": false,
     "input": [
      "%stdlib_help regex"
     ],
     "language": "python",
     "metadata": {},
     "outputs": []
    },
    {
     "cell_type": "heading",
     "level": 3,
     "metadata": {},
     "source": [
      "2) - Inheriting from `IPython.core.magic.Magics`"
     ]
    },
    {
     "cell_type": "markdown",
     "metadata": {},
     "source": [
      "It is pretty similar to the previous example with some steps more that add some extra functionality: magics can potentially hold state in between calls, and magics can have full access to the main IPython object. In the present case it wouldn't be necessary so the simplest way (the first one) would be enough."
     ]
    },
    {
     "cell_type": "code",
     "collapsed": true,
     "input": [
      "from IPython.core.magic import Magics, magics_class, line_magic\n",
      "\n",
      "# imports\n",
      "import requests\n",
      "import re\n",
      "from IPython.display import IFrame, HTML\n",
      "\n",
      "@magics_class\n",
      "class ItIsMagic(Magics):\n",
      "    \n",
      "    @register_line_magic\n",
      "    def stdlib_help2(module):\n",
      "        # list of modules\n",
      "        mods = requests.get(\"https://docs.python.org/3/py-modindex.html\")\n",
      "        mods = mods.content\n",
      "        modules = re.findall(r'library/([^\\'\" >]+).html', str(mods))\n",
      "\n",
      "        # Check if argument is a stdlib module\n",
      "        if module in modules:\n",
      "            url = \"https://docs.python.org/3/library/{0}.html#module-{0}\"\n",
      "            return IFrame(url.format(module), width = \"100%\", height = \"400px\")\n",
      "        else:\n",
      "            return HTML(\"<p><strong>\"+module+\"</strong> is not part of the CPython3.4 stdlib</p>\")\n",
      "\n",
      "# In order to actually use these magics, you must register them with a\n",
      "# running IPython.  This code must be placed in a file that is loaded once\n",
      "# IPython is up and running:\n",
      "ip = get_ipython()\n",
      "# You can register the class itself without instantiating it.  IPython will\n",
      "# call the default constructor on it.\n",
      "ip.register_magics(ItIsMagic)"
     ],
     "language": "python",
     "metadata": {},
     "outputs": []
    },
    {
     "cell_type": "code",
     "collapsed": false,
     "input": [
      "%stdlib_help2 __future__"
     ],
     "language": "python",
     "metadata": {},
     "outputs": []
    },
    {
     "cell_type": "code",
     "collapsed": false,
     "input": [
      "%stdlib_help2 make_the_web_I_have_in_mind"
     ],
     "language": "python",
     "metadata": {},
     "outputs": []
    },
    {
     "cell_type": "heading",
     "level": 1,
     "metadata": {},
     "source": [
      "Another tiny/dumb example"
     ]
    },
    {
     "cell_type": "markdown",
     "metadata": {},
     "source": [
      "This is something I had in mind but Jake Vanderplas was faster than me (not a surprise!!!).\n",
      "\n",
      "<blockquote class=\"twitter-tweet\" lang=\"es\"><p><a href=\"https://twitter.com/fperez_org\">@fperez_org</a> <a href=\"https://twitter.com/minrk\">@minrk</a> You mean something like this? <a href=\"http://t.co/7h3XGNDgaU\">http://t.co/7h3XGNDgaU</a></p>&mdash; Jake Vanderplas (@jakevdp) <a href=\"https://twitter.com/jakevdp/status/508340114456850432\">septiembre 6, 2014</a></blockquote>\n",
      "<script async src=\"//platform.twitter.com/widgets.js\" charset=\"utf-8\"></script>\n",
      "\n",
      "...\n",
      "\n",
      "<blockquote class=\"twitter-tweet\" lang=\"es\"><p><a href=\"https://twitter.com/jakevdp\">@jakevdp</a> <a href=\"https://twitter.com/fperez_org\">@fperez_org</a> <a href=\"https://twitter.com/minrk\">@minrk</a> I realized that jake did what I had in mind. It&#39;s the same but with an IFrame embedded: <a href=\"https://t.co/30PqVPYVPE\">https://t.co/30PqVPYVPE</a></p>&mdash; Pybonacci (@Pybonacci) <a href=\"https://twitter.com/Pybonacci/status/508381004672040961\">septiembre 6, 2014</a></blockquote>\n",
      "<script async src=\"//platform.twitter.com/widgets.js\" charset=\"utf-8\"></script>\n",
      "\n",
      "Complete twitter conversation [here](https://twitter.com/jakevdp/status/508340114456850432)"
     ]
    },
    {
     "cell_type": "code",
     "collapsed": true,
     "input": [
      "from IPython.display import IFrame\n",
      "from IPython.core.magic import register_line_magic\n",
      "\n",
      "@register_line_magic\n",
      "def ddg(arg):\n",
      "    phrase = arg.replace(' ', '+')\n",
      "    url = \"https://duckduckgo.com/?&q={0}\".format(phrase)\n",
      "    print(url)\n",
      "    return IFrame(url, \"100%\", 400)"
     ],
     "language": "python",
     "metadata": {},
     "outputs": []
    },
    {
     "cell_type": "code",
     "collapsed": false,
     "input": [
      "%ddg ipython"
     ],
     "language": "python",
     "metadata": {},
     "outputs": []
    },
    {
     "cell_type": "heading",
     "level": 1,
     "metadata": {},
     "source": [
      "It is so easy to find new possibilities"
     ]
    },
    {
     "cell_type": "markdown",
     "metadata": {},
     "source": [
      "<div class=\"alert alert-danger\">\n",
      "<p>But there are pages that are not embeddable like google.com, stackoverflow.com,...</p>\n",
      "\n",
      "<P>To check if a page is not able to be seen on an `iframe` you can use the following code:</p>\n",
      "</div>"
     ]
    },
    {
     "cell_type": "code",
     "collapsed": false,
     "input": [
      "import requests\n",
      "\n",
      "g = requests.get(\"http://www.google.com\")\n",
      "\n",
      "g.headers['X-Frame-Options']"
     ],
     "language": "python",
     "metadata": {},
     "outputs": []
    },
    {
     "cell_type": "markdown",
     "metadata": {},
     "source": [
      "If the result is `SAMEORIGIN` or `DENY` or ..., then you cannot embed that url in an `iframe`."
     ]
    },
    {
     "cell_type": "heading",
     "level": 1,
     "metadata": {},
     "source": [
      "Other explained examples"
     ]
    },
    {
     "cell_type": "markdown",
     "metadata": {},
     "source": [
      "http://pybonacci.org/2014/01/24/157-cosas-de-ipython-que-no-sabias-y-nunca-preguntaste-i/ (in Spanish)\n",
      "\n",
      "http://nbviewer.ipython.org/urls/gist.github.com/bj0/5343292/raw/23a0845ee874827e3635edb0bf5701710a537bfc/jinja2.ipynb (in English)\n",
      "\n",
      "http://nbviewer.ipython.org/github/ipython-books/cookbook-code/blob/master/notebooks/chapter01_basic/04_magic.ipynb (in English, BTW, it is part of an excellent book \"[IPython Interactive Computing and Visualization Cookbook](http://ipython-books.github.io/cookbook/)\" written by Cyrille Rossant)\n",
      "\n",
      "![](http://ipython-books.github.io/images/cookbook.jpg)"
     ]
    }
   ],
   "metadata": {}
  }
 ]
}